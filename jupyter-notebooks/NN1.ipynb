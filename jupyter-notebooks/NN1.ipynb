{
 "cells": [
  {
   "cell_type": "code",
   "execution_count": 25,
   "metadata": {},
   "outputs": [
    {
     "ename": "AttributeError",
     "evalue": "'list' object has no attribute 'astype'",
     "output_type": "error",
     "traceback": [
      "\u001b[0;31m---------------------------------------------------------------------------\u001b[0m",
      "\u001b[0;31mAttributeError\u001b[0m                            Traceback (most recent call last)",
      "Cell \u001b[0;32mIn[25], line 17\u001b[0m\n\u001b[1;32m      9\u001b[0m weights \u001b[38;5;241m=\u001b[39m [\n\u001b[1;32m     10\u001b[0m     [\u001b[38;5;241m0.2\u001b[39m, \u001b[38;5;241m0.8\u001b[39m, \u001b[38;5;241m-\u001b[39m\u001b[38;5;241m0.5\u001b[39m, \u001b[38;5;241m1.0\u001b[39m],\n\u001b[1;32m     11\u001b[0m     [\u001b[38;5;241m0.5\u001b[39m, \u001b[38;5;241m-\u001b[39m\u001b[38;5;241m0.91\u001b[39m, \u001b[38;5;241m0.26\u001b[39m, \u001b[38;5;241m-\u001b[39m\u001b[38;5;241m0.5\u001b[39m],\n\u001b[1;32m     12\u001b[0m     [\u001b[38;5;241m-\u001b[39m\u001b[38;5;241m0.26\u001b[39m, \u001b[38;5;241m-\u001b[39m\u001b[38;5;241m0.27\u001b[39m, \u001b[38;5;241m0.17\u001b[39m, \u001b[38;5;241m0.87\u001b[39m]\n\u001b[1;32m     13\u001b[0m ] \n\u001b[1;32m     15\u001b[0m biases \u001b[38;5;241m=\u001b[39m [\u001b[38;5;241m2.0\u001b[39m, \u001b[38;5;241m3.0\u001b[39m, \u001b[38;5;241m0.5\u001b[39m]\n\u001b[0;32m---> 17\u001b[0m layer_outputs \u001b[38;5;241m=\u001b[39m \u001b[43mnp\u001b[49m\u001b[38;5;241;43m.\u001b[39;49m\u001b[43mdot\u001b[49m\u001b[43m(\u001b[49m\u001b[43minputs\u001b[49m\u001b[43m,\u001b[49m\u001b[43m \u001b[49m\u001b[43mnp\u001b[49m\u001b[38;5;241;43m.\u001b[39;49m\u001b[43marray\u001b[49m\u001b[43m(\u001b[49m\u001b[43mweights\u001b[49m\u001b[43m)\u001b[49m\u001b[38;5;241;43m.\u001b[39;49m\u001b[43mT\u001b[49m\u001b[43m)\u001b[49m \u001b[38;5;241m+\u001b[39m biases\n\u001b[1;32m     18\u001b[0m layer_outputs\n",
      "File \u001b[0;32m/Library/Frameworks/Python.framework/Versions/3.12/lib/python3.12/site-packages/nnfs/core.py:22\u001b[0m, in \u001b[0;36minit.<locals>.dot\u001b[0;34m(*args, **kwargs)\u001b[0m\n\u001b[1;32m     21\u001b[0m \u001b[38;5;28;01mdef\u001b[39;00m \u001b[38;5;21mdot\u001b[39m(\u001b[38;5;241m*\u001b[39margs, \u001b[38;5;241m*\u001b[39m\u001b[38;5;241m*\u001b[39mkwargs):\n\u001b[0;32m---> 22\u001b[0m     \u001b[38;5;28;01mreturn\u001b[39;00m orig_dot(\u001b[38;5;241m*\u001b[39m[\u001b[43ma\u001b[49m\u001b[38;5;241;43m.\u001b[39;49m\u001b[43mastype\u001b[49m(\u001b[38;5;124m'\u001b[39m\u001b[38;5;124mfloat64\u001b[39m\u001b[38;5;124m'\u001b[39m) \u001b[38;5;28;01mfor\u001b[39;00m a \u001b[38;5;129;01min\u001b[39;00m args], \u001b[38;5;241m*\u001b[39m\u001b[38;5;241m*\u001b[39mkwargs)\u001b[38;5;241m.\u001b[39mastype(\u001b[38;5;124m'\u001b[39m\u001b[38;5;124mfloat32\u001b[39m\u001b[38;5;124m'\u001b[39m)\n",
      "\u001b[0;31mAttributeError\u001b[0m: 'list' object has no attribute 'astype'"
     ]
    }
   ],
   "source": [
    "import numpy as np\n",
    "\n",
    "inputs = [\n",
    "    [1.0, 2.0, 3.0, 2.5], \n",
    "    [2.0, 5.0, -1.0, 2.0],\n",
    "    [-1.5, 2.7, 3.3, -0.8]\n",
    "] \n",
    "\n",
    "weights = [\n",
    "    [0.2, 0.8, -0.5, 1.0],\n",
    "    [0.5, -0.91, 0.26, -0.5],\n",
    "    [-0.26, -0.27, 0.17, 0.87]\n",
    "] \n",
    "\n",
    "biases = [2.0, 3.0, 0.5]\n",
    "\n",
    "layer_outputs = np.dot(inputs, np.array(weights).T) + biases\n",
    "layer_outputs"
   ]
  },
  {
   "cell_type": "code",
   "execution_count": null,
   "metadata": {},
   "outputs": [
    {
     "name": "stdout",
     "output_type": "stream",
     "text": [
      "Requirement already satisfied: nnfs in /Library/Frameworks/Python.framework/Versions/3.12/lib/python3.12/site-packages (0.5.1)\n",
      "Requirement already satisfied: numpy in /Library/Frameworks/Python.framework/Versions/3.12/lib/python3.12/site-packages (from nnfs) (1.26.3)\n",
      "\n",
      "\u001b[1m[\u001b[0m\u001b[34;49mnotice\u001b[0m\u001b[1;39;49m]\u001b[0m\u001b[39;49m A new release of pip is available: \u001b[0m\u001b[31;49m23.3.2\u001b[0m\u001b[39;49m -> \u001b[0m\u001b[32;49m24.1.2\u001b[0m\n",
      "\u001b[1m[\u001b[0m\u001b[34;49mnotice\u001b[0m\u001b[1;39;49m]\u001b[0m\u001b[39;49m To update, run: \u001b[0m\u001b[32;49mpython3 -m pip install --upgrade pip\u001b[0m\n",
      "Note: you may need to restart the kernel to use updated packages.\n"
     ]
    }
   ],
   "source": [
    "pip install nnfs"
   ]
  },
  {
   "cell_type": "code",
   "execution_count": null,
   "metadata": {},
   "outputs": [],
   "source": [
    "from nnfs.datasets import spiral_data\n",
    "import nnfs\n",
    "import matplotlib.pyplot as plt"
   ]
  },
  {
   "cell_type": "code",
   "execution_count": null,
   "metadata": {},
   "outputs": [],
   "source": [
    "nnfs.init()\n"
   ]
  },
  {
   "cell_type": "code",
   "execution_count": 27,
   "metadata": {},
   "outputs": [],
   "source": [
    "class Layer_Dense:\n",
    "\n",
    "    def __init__(self, n_inputs, n_neurons):\n",
    "        self.weights = 0.01 * np.random.randn(n_inputs, n_neurons)\n",
    "        self.biases = np.zeros((1, n_neurons))\n",
    "    \n",
    "    def forward(self, inputs):\n",
    "        self.inputs = inputs\n",
    "        self.output = np.dot(inputs, self.weights) + self.biases\n",
    "\n",
    "    def backward(self, dvalues):\n",
    "        self.dweights = np.dot(self.inputs.T, dvalues)\n",
    "        self.dbiases = np.sum(dvalues, axis=0, keepdims=True)\n",
    "        self.dinputs = np.dot(dvalues, self.weights.T)\n",
    "\n",
    "class Activation_ReLU:\n",
    "    \n",
    "    def forward(self, inputs):\n",
    "        self.inputs = inputs\n",
    "        self.output = np.maximum(0, inputs)\n",
    "\n",
    "    def backward(self, dvalues):\n",
    "        self.dinputs = dvalues.copy()\n",
    "        self.dinputs[self.inputs <= 0] = 0\n",
    "\n",
    "class Activation_Softmax:\n",
    "\n",
    "    def forward(self, inputs):\n",
    "        exp_values = np.exp(inputs - np.max(inputs, axis=1,\n",
    "                                            keepdims=True))\n",
    "        probabilities = exp_values / np.sum(exp_values, axis=1,\n",
    "                                            keepdims=True)\n",
    "        self.output = probabilities\n",
    "        \n",
    "    def backward(self, dvalues):\n",
    "\n",
    "        self.dinputs = np.empty_like(dvalues)\n",
    "        \n",
    "        for index, (single_output, single_dvalues) in enumerate(zip(self.output, dvalues)):\n",
    "            single_output = np.array(single_output).reshape(-1, 1)\n",
    "            print(single_output)\n",
    "            jacobian_matrix = np.diagflat(single_output) - np.dot(single_output, single_output.T)\n",
    "            print(jacobian_matrix)\n",
    "            self.dinputs[index] = np.dot(jacobian_matrix, single_dvalues)\n",
    "\n",
    "class Loss:\n",
    "\n",
    "    def calculate(self, output, y):\n",
    "\n",
    "        sample_losses = self.forward(output, y)\n",
    "        data_loss = np.mean(sample_losses)\n",
    "        return data_loss\n",
    "\n",
    "class Loss_CategoricalCrossentropy(Loss):\n",
    "\n",
    "    def forward(self, y_pred, y_true):\n",
    "\n",
    "        samples = len(y_pred)\n",
    "        y_pred_clipped = np.clip(y_pred, 1e-7, 1-1e-7)\n",
    "        if len(y_true.shape) == 1:\n",
    "            correct_confidences = y_pred_clipped[\n",
    "                range(samples),\n",
    "                y_true\n",
    "            ]\n",
    "        elif len(y_true.shape) == 2:\n",
    "            correct_confidences = np.sum(\n",
    "                y_pred_clipped * y_true,\n",
    "                axis=1\n",
    "            )\n",
    "        negative_log_likelihoods = -np.log(correct_confidences)\n",
    "        return negative_log_likelihoods\n",
    "    \n",
    "    def backward(self, dvalues, y_true):\n",
    "\n",
    "        samples = len(dvalues)\n",
    "        labels = len(dvalues[0])\n",
    "        \n",
    "        if len(y_true.shape) == 1:\n",
    "            y_true = np.eye(labels)[y_true]\n",
    "\n",
    "        self.dinputs = -y_true / dvalues\n",
    "        self.dinputs = self.dinputs/samples\n",
    "\n",
    "# final layer of neural network, combining classification layer and loss function calculation for simplification purposes\n",
    "# takes as its input the output of the second dense layer (is this a matrix? why?)\n",
    "# outputs a classification based on output of second dense layer and then loss is calculated based on this classification\n",
    "class Activation_Softmax_Loss_CategoricalCrossentropy():\n",
    "\n",
    "    def __init__(self):\n",
    "\n",
    "        self.activation = Activation_Softmax()\n",
    "        self.loss = Loss_CategoricalCrossentropy()\n",
    "\n",
    "    # takes as input, the output of the second layer and creates a classification\n",
    "    # then calculates loss based on how wrong this classification is\n",
    "    def forward(self, inputs, y_true):\n",
    "\n",
    "        self.activation.forward(inputs)\n",
    "        self.output = self.activation.output\n",
    "        return self.loss.calculate(self.output, y_true)\n",
    "    \n",
    "    # final output is loss for classifcation of each batch (or is it called sample?) and input is all outputs of second dense layer\n",
    "    # so gradients is partial derivate of loss with respect to every input from second dense layer\n",
    "    # partial derivative = predicted probabilities - ground truth probabilities\n",
    "    def backward(self, dvalues , y_true) -> None:\n",
    "\n",
    "        samples = len(dvalues)\n",
    "\n",
    "        if len(y_true.shape) == 2:\n",
    "            y_true = np.argmax(y_true, axis=1)\n",
    "\n",
    "        self.dinputs = dvalues.copy()\n",
    "        self.dinputs[range(samples), y_true] -= 1\n",
    "        # normalises gradient \n",
    "        # if we had n samples in the predicted probabilities matrix then we subtract n from it in total, as from each sample we subtract 1 (the value of the ground truth)\n",
    "        # so to normalise gradient we have to divide it by n\n",
    "        #gradient_matrix_row[i] / n is normalised \n",
    "        self.dinputs = self.dinputs/samples\n",
    "\n",
    "class Optimizer_SGD:\n",
    "\n",
    "    def __init__(self, learning_rate=1.0, decay=0, momentum=0):\n",
    "        \n",
    "        self.learning_rate = learning_rate\n",
    "        self.current_learning_rate = learning_rate\n",
    "        self.decay = decay\n",
    "        self.iterations = 0\n",
    "        self.momentum = momentum\n",
    "\n",
    "    def pre_udpate_params(self):\n",
    "\n",
    "        # before each update, decay learning rate by one iteration\n",
    "\n",
    "        if self.decay:\n",
    "            self.current_learning_rate = self.learning_rate * (1 / (1+self.decay*self.iterations))\n",
    "\n",
    "    def update_params(self, layer):\n",
    "\n",
    "        if self.momentum:\n",
    "\n",
    "        # SDG with momentum:\n",
    "        # parameters = parameters + ( (momentum * previous updates) - (learning rate * parameter gradients) )\n",
    "        \n",
    "        # update contains a portion of the gradient from preceding steps and only a portion o the current gradient\n",
    "        # together these portions form the update to our parameters\n",
    "        # the larger the momentum, the slower the update can change the direction\n",
    "\n",
    "            if not hasattr(layer, 'weight_momentums'):\n",
    "\n",
    "                layer.weight_momentums = np.zeros_like(layer.weights)\n",
    "                layer.bias_momentums = np.zeros_like(layer.biases)\n",
    "\n",
    "            weight_updates = self.momentum * layer.weight_momentums - self.current_learning_rate * layer.dweights\n",
    "            layer.weight_momentums = weight_updates\n",
    "\n",
    "            bias_updates = self.momentum * layer.bias_momentums - self.current_learning_rate * layer.dbiases\n",
    "            layer.bias_momentums = bias_updates\n",
    "        \n",
    "        else:   \n",
    "            # vanilla SDG: parameters = parameters - (learning_rate * parameter gradient)\n",
    "            weight_updates = -self.current_learning_rate * layer.dweights\n",
    "            bias_updates = -self.current_learning_rate * layer.dbiases\n",
    "\n",
    "        layer.weights += weight_updates\n",
    "        layer.biases += bias_updates\n",
    "\n",
    "    def post_udpate_params(self):\n",
    "        \n",
    "        self.iterations += 1\n",
    "\n",
    "class Optimizer_Adagrad:\n",
    "\n",
    "    def __init__(self, learning_rate=1.0, decay=0, epsilon = 1e-7):\n",
    "        \n",
    "        self.learning_rate = learning_rate\n",
    "        self.current_learning_rate = learning_rate\n",
    "        self.decay = decay\n",
    "        self.iterations = 0\n",
    "        self.epsilon = epsilon\n",
    "\n",
    "    def pre_udpate_params(self):\n",
    "\n",
    "        # before each update, decay learning rate by one iteration\n",
    "\n",
    "        if self.decay:\n",
    "            self.current_learning_rate = self.learning_rate * (1 / (1+self.decay*self.iterations))\n",
    "\n",
    "    def update_params(self, layer):\n",
    "\n",
    "        # keep cache of squared gradients\n",
    "        # objective is to normalize parameter updates, the bigger the sum of the updates, in positive or negative direction, the smaller updates are made further in training\n",
    "        # let's less frequently updated parameters keep up with training, effectively using more neurons for training\n",
    "\n",
    "        if not hasattr(layer, 'weight_cache'):\n",
    "\n",
    "            layer.weight_cache = np.zeros_like(layer.weights)\n",
    "            layer.bias_cache = np.zeros_like(layer.biases)\n",
    "\n",
    "        # larger gradient magnitude, means larger parameter update so cache for that increases\n",
    "        # this means next updates will be smaller\n",
    "        layer.weight_cache += layer.dweights**2\n",
    "        layer.bias_cache += layer.dbiases**2\n",
    "\n",
    "        layer.weights += -self.current_learning_rate * layer.dweights / (np.sqrt(layer.weight_cache)+self.epsilon)\n",
    "        layer.biases += -self.current_learning_rate * layer.dbiases / (np.sqrt(layer.bias_cache)+self.epsilon)\n",
    "\n",
    "    def post_udpate_params(self):\n",
    "        \n",
    "        self.iterations += 1\n",
    "\n",
    "class Optimizer_RMSprop:\n",
    "\n",
    "    def __init__(self, learning_rate=0.001, decay=0, epsilon = 1e-7, rho=0.9):\n",
    "        \n",
    "        self.learning_rate = learning_rate \n",
    "        self.current_learning_rate = learning_rate\n",
    "        self.decay = decay\n",
    "        self.iterations = 0\n",
    "        self.epsilon = epsilon\n",
    "        self.rho = rho\n",
    "\n",
    "    def pre_udpate_params(self):\n",
    "\n",
    "        # before each update, decay learning rate by one iteration\n",
    "\n",
    "        if self.decay:\n",
    "            self.current_learning_rate = self.learning_rate * (1 / (1+self.decay*self.iterations))\n",
    "\n",
    "    def update_params(self, layer):\n",
    "\n",
    "        # RMSProp uses a moving average of the cache so that the cache contents move with time and learning does not stall\n",
    "        # Each cache updates retains a part of the cache and updates it with a fraction of the new squared gradients\n",
    "        # the hyper-parameter rho decides how much of old cache we keep and how much new gradients change cache\n",
    "\n",
    "        if not hasattr(layer, 'weight_cache'):\n",
    "\n",
    "            layer.weight_cache = np.zeros_like(layer.weights)\n",
    "            layer.bias_cache = np.zeros_like(layer.biases)\n",
    "\n",
    "        layer.weight_cache = self.rho * layer.weight_cache + (1-self.rho) * layer.dweights**2\n",
    "        layer.bias_cache = self.rho * layer.bias_cache + (1-self.rho) * layer.dbiases**2\n",
    "\n",
    "        # like with Adagrad, since we're dividing by cache, slows down updates to parameters that have already updated a lot\n",
    "\n",
    "        layer.weights += -self.current_learning_rate * layer.dweights / (np.sqrt(layer.weight_cache)+self.epsilon)\n",
    "        layer.biases += -self.current_learning_rate * layer.dbiases / (np.sqrt(layer.bias_cache)+self.epsilon)\n",
    "\n",
    "    def post_udpate_params(self):\n",
    "        \n",
    "        self.iterations += 1\n",
    "\n",
    "class Optimizer_Adam:\n",
    "\n",
    "    def __init__(self, learning_rate=0.001, decay=0, epsilon = 1e-7, beta_1=0.9, beta_2=0.999):\n",
    "        \n",
    "        self.learning_rate = learning_rate \n",
    "        self.current_learning_rate = learning_rate\n",
    "        self.decay = decay\n",
    "        self.iterations = 0\n",
    "        self.epsilon = epsilon\n",
    "        self.beta_1 = beta_1\n",
    "        self.beta_2 = beta_2\n",
    "\n",
    "    def pre_udpate_params(self):\n",
    "\n",
    "        # before each update, decay learning rate by one iteration\n",
    "\n",
    "        if self.decay:\n",
    "            self.current_learning_rate = self.learning_rate * (1 / (1+self.decay*self.iterations))\n",
    "\n",
    "    def update_params(self, layer):\n",
    "\n",
    "        # Adam uses learning decay, updates parameters with paramter momentums instead of gradients, a cache and a bias correction mechanism for initial iterations\n",
    "\n",
    "        if not hasattr(layer, 'weight_cache'):\n",
    "            layer.weight_momentums = np.zeros_like(layer.weights)\n",
    "            layer.weight_cache = np.zeros_like(layer.weights)\n",
    "            layer.bias_momentums = np.zeros_like(layer.biases)\n",
    "            layer.bias_cache = np.zeros_like(layer.biases)\n",
    "\n",
    "        # instead of applying current parameter gradients to cache, we apply momentums\n",
    "        # momentum has part of previous parameter momentums and part of current gradient, beta_1 decides how much of each\n",
    "\n",
    "        layer.weight_momentums = self.beta_1 * layer.weight_momentums + (1 - self.beta_1) * layer.dweights\n",
    "        layer.bias_momentums = self.beta_1 * layer.bias_momentums + (1 - self.beta_1) * layer.dbiases\n",
    "\n",
    "        # with previous caches and momentums, the initial iterations are impacted by the zero-valued start before they warm up with the initial steps\n",
    "        # Adam fixes this, by dividing momentums and caches by (1-beta^step) \n",
    "        # so initialiy we are artificially increasing momentum and cache to speed up training in initial stages\n",
    "\n",
    "        weight_momentums_corrected = layer.weight_momentums / (1-self.beta_1 ** (self.iterations+1))\n",
    "        bias_momentums_corrected = layer.bias_momentums / (1-self.beta_1 ** (self.iterations+1))\n",
    "\n",
    "        #cache updates work in the same way as for Adagrad. cache is updated with portion of old cache and portion of current gradients, portion decided by beta_2 hyperparameter\n",
    "        layer.weight_cache = self.beta_2 * layer.weight_cache + (1-self.beta_2) * layer.dweights**2\n",
    "        layer.bias_cache = self.beta_2 * layer.bias_cache + (1-self.beta_2) * layer.dbiases**2\n",
    "\n",
    "\n",
    "        # correct cache with initial bias correcting mechanism\n",
    "        weight_cache_corrected = layer.weight_cache / (1 - self.beta_2 ** (self.iterations + 1))\n",
    "        bias_cache_corrected = layer.bias_cache / (1 - self.beta_2 ** (self.iterations + 1))\n",
    "\n",
    "        # learning rate multiplied by parameter momentums instead of gradients and then cache normalisation is as usual\n",
    "        # like with Adagrad, since we're dividing by cache, slows down updates to parameters that have already updated a lot\n",
    "        layer.weights += -self.current_learning_rate * weight_momentums_corrected / (np.sqrt(weight_cache_corrected)+self.epsilon)\n",
    "        layer.biases += -self.current_learning_rate * bias_momentums_corrected / (np.sqrt(bias_cache_corrected)+self.epsilon)\n",
    "\n",
    "    def post_udpate_params(self):\n",
    "        \n",
    "        self.iterations += 1"
   ]
  },
  {
   "cell_type": "code",
   "execution_count": 28,
   "metadata": {},
   "outputs": [
    {
     "data": {
      "text/plain": [
       "array([0.8, 0.7])"
      ]
     },
     "execution_count": 28,
     "metadata": {},
     "output_type": "execute_result"
    }
   ],
   "source": [
    "true = np.array([0, 1])\n",
    "pred = np.array([[0.8, 0.2], [0.3, 0.7]])\n",
    "samples = len(pred)\n",
    "pred_clipped = np.clip(pred, 1e-7, 1-1e-7)\n",
    "if len(true.shape) == 1:\n",
    "    correct_confidences = pred_clipped[\n",
    "                    range(samples),\n",
    "                    true]       \n",
    "correct_confidences\n"
   ]
  },
  {
   "cell_type": "code",
   "execution_count": 29,
   "metadata": {},
   "outputs": [
    {
     "data": {
      "image/png": "[encoded data removed]",
      "text/plain": [
       "<Figure size 640x480 with 1 Axes>"
      ]
     },
     "metadata": {},
     "output_type": "display_data"
    }
   ],
   "source": [
    "X, y = spiral_data(samples=100, classes=3)\n",
    "plt.scatter(X[:,0], X[:,1]) \n",
    "plt.show()"
   ]
  },
  {
   "cell_type": "code",
   "execution_count": 30,
   "metadata": {},
   "outputs": [
    {
     "name": "stdout",
     "output_type": "stream",
     "text": [
      "epoch: 0, acc: 0.260,  loss: 1.099, lr: 0.02\n",
      "epoch: 1000, acc: 0.770,  loss: 0.498, lr: 0.018183471224656786\n",
      "epoch: 2000, acc: 0.810,  loss: 0.361, lr: 0.016668055671305942\n",
      "epoch: 3000, acc: 0.883,  loss: 0.291, lr: 0.015385798907608278\n",
      "epoch: 4000, acc: 0.923,  loss: 0.220, lr: 0.014286734766769053\n",
      "epoch: 5000, acc: 0.943,  loss: 0.185, lr: 0.013334222281485434\n",
      "epoch: 6000, acc: 0.947,  loss: 0.165, lr: 0.01250078129883118\n",
      "epoch: 7000, acc: 0.950,  loss: 0.151, lr: 0.011765397964586153\n",
      "epoch: 8000, acc: 0.947,  loss: 0.144, lr: 0.011111728429357186\n",
      "epoch: 9000, acc: 0.947,  loss: 0.135, lr: 0.010526869835254487\n",
      "epoch: 10000, acc: 0.943,  loss: 0.126, lr: 0.010000500025001252\n"
     ]
    }
   ],
   "source": [
    "optimizer = Optimizer_RMSprop(learning_rate=0.02, decay=1e-4, rho=0.999)\n",
    "dense1 = Layer_Dense(2,64)\n",
    "activation1 = Activation_ReLU()\n",
    "dense2 = Layer_Dense(64,3)\n",
    "loss_activation = Activation_Softmax_Loss_CategoricalCrossentropy()\n",
    "\n",
    "for epoch in range(10001):\n",
    "    dense1.forward(X)\n",
    "    activation1.forward(dense1.output)\n",
    "    dense2.forward(activation1.output)\n",
    "    loss = loss_activation.forward(dense2.output, y)\n",
    "\n",
    "    predictions = np.argmax(loss_activation.output, axis=1)\n",
    "    if len(y.shape) == 2:\n",
    "        y = np.argmax(y, axis=1)\n",
    "    accuracy = np.mean(predictions==y)\n",
    "    if not epoch % 1000:\n",
    "        print(f'epoch: {epoch}, ' +\n",
    "              f'acc: {accuracy:.3f}, ' +\n",
    "              f' loss: {loss:.3f}, ' +\n",
    "              f'lr: {optimizer.current_learning_rate}')\n",
    "\n",
    "    loss_activation.backward(loss_activation.output, y)\n",
    "    dense2.backward(loss_activation.dinputs)\n",
    "    activation1.backward(dense2.dinputs)\n",
    "    dense1.backward(activation1.dinputs)\n",
    "    \n",
    "    optimizer.pre_udpate_params()\n",
    "    optimizer.update_params(dense1)\n",
    "    optimizer.update_params(dense2)\n",
    "    optimizer.post_udpate_params()\n",
    "\n"
   ]
  },
  {
   "cell_type": "code",
   "execution_count": null,
   "metadata": {},
   "outputs": [],
   "source": []
  },
  {
   "cell_type": "code",
   "execution_count": 31,
   "metadata": {},
   "outputs": [
    {
     "name": "stdout",
     "output_type": "stream",
     "text": [
      "[[0.         0.         0.         0.         0.         0.4922287\n",
      "  0.         0.         0.         0.         0.         0.\n",
      "  0.         0.56910783 0.         0.         0.         0.\n",
      "  0.         0.         0.         0.         1.8005913  0.\n",
      "  0.         0.         0.         0.         0.         0.\n",
      "  0.         0.7091483  0.         0.         0.         2.5282142\n",
      "  0.         0.         0.         0.         0.         0.\n",
      "  0.         0.         0.         0.         0.         0.\n",
      "  0.         2.2669609  0.         0.         0.         1.9854008\n",
      "  0.         0.         0.         1.4699218  0.         0.\n",
      "  0.         0.         0.         0.        ]\n",
      " [0.         0.         0.         0.         0.         0.588457\n",
      "  0.         0.         0.         0.         0.         0.\n",
      "  0.         0.5111399  0.         0.         0.         0.\n",
      "  0.         0.         0.         0.         1.7836837  0.\n",
      "  0.         0.         0.         0.         0.         0.\n",
      "  0.         0.74402994 0.         0.         0.         2.6024823\n",
      "  0.         0.         0.         0.         0.         0.\n",
      "  0.         0.         0.         0.         0.         0.\n",
      "  0.         2.345981   0.         0.         0.         2.005455\n",
      "  0.         0.         0.         1.5581946  0.         0.\n",
      "  0.         0.         0.         0.        ]\n",
      " [0.         0.         0.         0.         0.         0.64456606\n",
      "  0.         0.         0.         0.         0.         0.\n",
      "  0.         0.45794    0.         0.         0.         0.\n",
      "  0.         0.         0.         0.         1.7922522  0.\n",
      "  0.         0.         0.         0.         0.         0.\n",
      "  0.         0.7229837  0.         0.         0.         2.6908104\n",
      "  0.         0.         0.         0.         0.         0.\n",
      "  0.         0.         0.         0.         0.         0.\n",
      "  0.         2.4128892  0.         0.         0.         1.9983513\n",
      "  0.         0.         0.         1.6271406  0.         0.\n",
      "  0.         0.         0.         0.        ]\n",
      " [0.         0.         0.         0.         0.         0.7880382\n",
      "  0.         0.         0.         0.         0.         0.\n",
      "  0.         0.46817866 0.         0.         0.         0.\n",
      "  0.         0.         0.         0.         1.6752243  0.\n",
      "  0.         0.         0.         0.         0.         0.\n",
      "  0.         0.9812056  0.         0.         0.         2.577196\n",
      "  0.         0.         0.         0.         0.         0.\n",
      "  0.         0.         0.         0.         0.         0.\n",
      "  0.         2.426897   0.         0.         0.         2.1219137\n",
      "  0.         0.         0.         1.6716738  0.         0.\n",
      "  0.         0.         0.         0.        ]\n",
      " [0.         0.         0.         0.         0.         0.77234614\n",
      "  0.         0.         0.         0.         0.         0.\n",
      "  0.         0.35241145 0.         0.         0.         0.\n",
      "  0.         0.         0.         0.         1.796923   0.\n",
      "  0.         0.         0.         0.         0.         0.\n",
      "  0.         0.7083892  0.         0.         0.         2.8556986\n",
      "  0.         0.         0.         0.         0.         0.\n",
      "  0.         0.         0.         0.         0.         0.\n",
      "  0.         2.548482   0.         0.         0.         1.9973145\n",
      "  0.         0.         0.         1.7700784  0.         0.\n",
      "  0.         0.         0.         0.        ]]\n"
     ]
    }
   ],
   "source": [
    "\n",
    "\n",
    "\n",
    "activation1.forward(dense1.output)\n",
    "print(activation1.output[:5])"
   ]
  },
  {
   "cell_type": "code",
   "execution_count": null,
   "metadata": {},
   "outputs": [
    {
     "name": "stdout",
     "output_type": "stream",
     "text": [
      "[0 0 1]\n",
      "[ True False  True]\n"
     ]
    },
    {
     "data": {
      "text/plain": [
       "0.6666666666666666"
      ]
     },
     "execution_count": 16,
     "metadata": {},
     "output_type": "execute_result"
    }
   ],
   "source": [
    "softmax_outputs = np.array([[0.7, 0.2, 0.1],\n",
    "                            [0.5, 0.1, 0.4],\n",
    "                            [0.02, 0.9, 0.08]])\n",
    "class_targets = np.array([0, 1, 1])\n",
    "\n",
    "predictions = np.argmax(softmax_outputs, axis=1)\n",
    "print(predictions)\n",
    "print(predictions==class_targets)\n",
    "accuracy = np.mean(predictions==class_targets)\n",
    "accuracy"
   ]
  },
  {
   "cell_type": "code",
   "execution_count": null,
   "metadata": {},
   "outputs": [],
   "source": [
    "import numpy as np"
   ]
  },
  {
   "cell_type": "code",
   "execution_count": null,
   "metadata": {},
   "outputs": [],
   "source": [
    "a = np.array([[1,2,3,4],\n",
    "              [5,6,7,8],\n",
    "              [9,10,11,12]])"
   ]
  },
  {
   "cell_type": "code",
   "execution_count": null,
   "metadata": {},
   "outputs": [
    {
     "data": {
      "text/plain": [
       "array([[ 1,  5,  9],\n",
       "       [ 2,  6, 10],\n",
       "       [ 3,  7, 11],\n",
       "       [ 4,  8, 12]])"
      ]
     },
     "execution_count": 19,
     "metadata": {},
     "output_type": "execute_result"
    }
   ],
   "source": [
    "a.transpose()"
   ]
  },
  {
   "cell_type": "code",
   "execution_count": 32,
   "metadata": {},
   "outputs": [
    {
     "name": "stdout",
     "output_type": "stream",
     "text": [
      "[[0.1 ]\n",
      " [0.2 ]\n",
      " [0.31]]\n",
      "[[ 0.09   -0.02   -0.031 ]\n",
      " [-0.02    0.16   -0.062 ]\n",
      " [-0.031  -0.062   0.2139]]\n"
     ]
    },
    {
     "ename": "AttributeError",
     "evalue": "'list' object has no attribute 'astype'",
     "output_type": "error",
     "traceback": [
      "\u001b[0;31m---------------------------------------------------------------------------\u001b[0m",
      "\u001b[0;31mAttributeError\u001b[0m                            Traceback (most recent call last)",
      "Cell \u001b[0;32mIn[32], line 8\u001b[0m\n\u001b[1;32m      2\u001b[0m dvalues \u001b[38;5;241m=\u001b[39m [[\u001b[38;5;241m0.1\u001b[39m, \u001b[38;5;241m0.2\u001b[39m, \u001b[38;5;241m0.31\u001b[39m],\n\u001b[1;32m      3\u001b[0m            [\u001b[38;5;241m0.14\u001b[39m, \u001b[38;5;241m0.42\u001b[39m, \u001b[38;5;241m0.31\u001b[39m],\n\u001b[1;32m      4\u001b[0m            [\u001b[38;5;241m0.11\u001b[39m, \u001b[38;5;241m0.22\u001b[39m, \u001b[38;5;241m0.1\u001b[39m]]\n\u001b[1;32m      5\u001b[0m soft\u001b[38;5;241m.\u001b[39moutput \u001b[38;5;241m=\u001b[39m [[\u001b[38;5;241m0.1\u001b[39m, \u001b[38;5;241m0.2\u001b[39m, \u001b[38;5;241m0.31\u001b[39m],\n\u001b[1;32m      6\u001b[0m            [\u001b[38;5;241m0.14\u001b[39m, \u001b[38;5;241m0.42\u001b[39m, \u001b[38;5;241m0.31\u001b[39m],\n\u001b[1;32m      7\u001b[0m            [\u001b[38;5;241m0.11\u001b[39m, \u001b[38;5;241m0.22\u001b[39m, \u001b[38;5;241m0.1\u001b[39m]]\n\u001b[0;32m----> 8\u001b[0m \u001b[43msoft\u001b[49m\u001b[38;5;241;43m.\u001b[39;49m\u001b[43mbackward\u001b[49m\u001b[43m(\u001b[49m\u001b[43mdvalues\u001b[49m\u001b[43m)\u001b[49m\n",
      "Cell \u001b[0;32mIn[27], line 44\u001b[0m, in \u001b[0;36mActivation_Softmax.backward\u001b[0;34m(self, dvalues)\u001b[0m\n\u001b[1;32m     42\u001b[0m jacobian_matrix \u001b[38;5;241m=\u001b[39m np\u001b[38;5;241m.\u001b[39mdiagflat(single_output) \u001b[38;5;241m-\u001b[39m np\u001b[38;5;241m.\u001b[39mdot(single_output, single_output\u001b[38;5;241m.\u001b[39mT)\n\u001b[1;32m     43\u001b[0m \u001b[38;5;28mprint\u001b[39m(jacobian_matrix)\n\u001b[0;32m---> 44\u001b[0m \u001b[38;5;28mself\u001b[39m\u001b[38;5;241m.\u001b[39mdinputs[index] \u001b[38;5;241m=\u001b[39m \u001b[43mnp\u001b[49m\u001b[38;5;241;43m.\u001b[39;49m\u001b[43mdot\u001b[49m\u001b[43m(\u001b[49m\u001b[43mjacobian_matrix\u001b[49m\u001b[43m,\u001b[49m\u001b[43m \u001b[49m\u001b[43msingle_dvalues\u001b[49m\u001b[43m)\u001b[49m\n",
      "File \u001b[0;32m/Library/Frameworks/Python.framework/Versions/3.12/lib/python3.12/site-packages/nnfs/core.py:22\u001b[0m, in \u001b[0;36minit.<locals>.dot\u001b[0;34m(*args, **kwargs)\u001b[0m\n\u001b[1;32m     21\u001b[0m \u001b[38;5;28;01mdef\u001b[39;00m \u001b[38;5;21mdot\u001b[39m(\u001b[38;5;241m*\u001b[39margs, \u001b[38;5;241m*\u001b[39m\u001b[38;5;241m*\u001b[39mkwargs):\n\u001b[0;32m---> 22\u001b[0m     \u001b[38;5;28;01mreturn\u001b[39;00m orig_dot(\u001b[38;5;241m*\u001b[39m[\u001b[43ma\u001b[49m\u001b[38;5;241;43m.\u001b[39;49m\u001b[43mastype\u001b[49m(\u001b[38;5;124m'\u001b[39m\u001b[38;5;124mfloat64\u001b[39m\u001b[38;5;124m'\u001b[39m) \u001b[38;5;28;01mfor\u001b[39;00m a \u001b[38;5;129;01min\u001b[39;00m args], \u001b[38;5;241m*\u001b[39m\u001b[38;5;241m*\u001b[39mkwargs)\u001b[38;5;241m.\u001b[39mastype(\u001b[38;5;124m'\u001b[39m\u001b[38;5;124mfloat32\u001b[39m\u001b[38;5;124m'\u001b[39m)\n",
      "\u001b[0;31mAttributeError\u001b[0m: 'list' object has no attribute 'astype'"
     ]
    }
   ],
   "source": [
    "soft = Activation_Softmax()\n",
    "dvalues = [[0.1, 0.2, 0.31],\n",
    "           [0.14, 0.42, 0.31],\n",
    "           [0.11, 0.22, 0.1]]\n",
    "soft.output = [[0.1, 0.2, 0.31],\n",
    "           [0.14, 0.42, 0.31],\n",
    "           [0.11, 0.22, 0.1]]\n",
    "soft.backward(dvalues)\n"
   ]
  },
  {
   "cell_type": "code",
   "execution_count": 33,
   "metadata": {},
   "outputs": [],
   "source": [
    "import numpy as np"
   ]
  },
  {
   "cell_type": "code",
   "execution_count": 50,
   "metadata": {},
   "outputs": [
    {
     "data": {
      "text/plain": [
       "array([[0.1 ],\n",
       "       [0.2 ],\n",
       "       [0.2 ],\n",
       "       [0.1 ],\n",
       "       [0.31],\n",
       "       [0.4 ]])"
      ]
     },
     "execution_count": 50,
     "metadata": {},
     "output_type": "execute_result"
    }
   ],
   "source": [
    "single_output = np.array([[0.1, 0.2],\n",
    "                [0.2, 0.1],\n",
    "                [0.31, 0.4]])\n",
    "single_output.reshape(-1,1)"
   ]
  },
  {
   "cell_type": "code",
   "execution_count": 59,
   "metadata": {},
   "outputs": [
    {
     "name": "stdout",
     "output_type": "stream",
     "text": [
      "[[0 0 1]\n",
      " [0 1 0]\n",
      " [0 1 0]]\n"
     ]
    },
    {
     "data": {
      "text/plain": [
       "3"
      ]
     },
     "execution_count": 59,
     "metadata": {},
     "output_type": "execute_result"
    }
   ],
   "source": [
    "print(single_output)\n",
    "len(single_output)"
   ]
  },
  {
   "cell_type": "code",
   "execution_count": 67,
   "metadata": {},
   "outputs": [
    {
     "data": {
      "text/plain": [
       "array([[ 0.2,  0.1, -0.3],\n",
       "       [ 0.3, -0.4,  0.1],\n",
       "       [ 0.8, -0.9,  0.1]])"
      ]
     },
     "execution_count": 67,
     "metadata": {},
     "output_type": "execute_result"
    }
   ],
   "source": [
    "dinputs = np.array([[0.2, 0.1, 0.7],\n",
    "                    [0.3, 0.6, 0.1],\n",
    "                    [0.8, 0.1, 0.1]])\n",
    "y_true = np.array([[0,0,1],\n",
    "                    [0,1,0],\n",
    "                    [0,1,0]])\n",
    "y_true = np.argmax(y_true, axis=1)\n",
    "dinputs[range(3), y_true] -= 1\n",
    "dinputs = dinputs \n",
    "dinputs"
   ]
  },
  {
   "cell_type": "code",
   "execution_count": null,
   "metadata": {},
   "outputs": [],
   "source": []
  }
 ],
 "metadata": {
  "kernelspec": {
   "display_name": "Python 3",
   "language": "python",
   "name": "python3"
  },
  "language_info": {
   "codemirror_mode": {
    "name": "ipython",
    "version": 3
   },
   "file_extension": ".py",
   "mimetype": "text/x-python",
   "name": "python",
   "nbconvert_exporter": "python",
   "pygments_lexer": "ipython3",
   "version": "3.12.1"
  }
 },
 "nbformat": 4,
 "nbformat_minor": 2
}
